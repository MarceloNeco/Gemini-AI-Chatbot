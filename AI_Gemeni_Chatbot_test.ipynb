{
  "nbformat": 4,
  "nbformat_minor": 0,
  "metadata": {
    "colab": {
      "provenance": [],
      "authorship_tag": "ABX9TyOzO+bnDvLVArObo1L7+f7y",
      "include_colab_link": true
    },
    "kernelspec": {
      "name": "python3",
      "display_name": "Python 3"
    },
    "language_info": {
      "name": "python"
    }
  },
  "cells": [
    {
      "cell_type": "markdown",
      "metadata": {
        "id": "view-in-github",
        "colab_type": "text"
      },
      "source": [
        "<a href=\"https://colab.research.google.com/github/MarceloNeco/Gemini-AI-Chatbot/blob/main/AI_Gemeni_Chatbot_test.ipynb\" target=\"_parent\"><img src=\"https://colab.research.google.com/assets/colab-badge.svg\" alt=\"Open In Colab\"/></a>"
      ]
    },
    {
      "cell_type": "markdown",
      "source": [
        "instalando SDK"
      ],
      "metadata": {
        "id": "xTxA1H5W06W9"
      }
    },
    {
      "cell_type": "code",
      "execution_count": 1,
      "metadata": {
        "id": "H3swb4Gj05Zk"
      },
      "outputs": [],
      "source": [
        "!pip install -q -U google-generativeai"
      ]
    },
    {
      "cell_type": "markdown",
      "source": [
        "?"
      ],
      "metadata": {
        "id": "bboSRN6j1Db2"
      }
    },
    {
      "cell_type": "code",
      "source": [
        "# Import the Python SDK\n",
        "import google.generativeai as genai\n",
        "# Used to securely store your API key\n",
        "from google.colab import userdata\n",
        "\n",
        "GOOGLE_API_KEY=userdata.get('GOOGLE_API_KEY')\n",
        "genai.configure(api_key=GOOGLE_API_KEY)"
      ],
      "metadata": {
        "id": "SyZPcfff1Eda"
      },
      "execution_count": 6,
      "outputs": []
    },
    {
      "cell_type": "markdown",
      "source": [
        "listar os modelos disponíveis"
      ],
      "metadata": {
        "id": "MajUkLNk2Pzl"
      }
    },
    {
      "cell_type": "code",
      "source": [
        "for m in genai.list_models():\n",
        "  if 'generateContent' in m.supported_generation_methods:\n",
        "    print(m.name)"
      ],
      "metadata": {
        "colab": {
          "base_uri": "https://localhost:8080/",
          "height": 138
        },
        "id": "FPUcukdh15pU",
        "outputId": "67aafa93-08a9-493b-bb0a-a247b360aa52"
      },
      "execution_count": 9,
      "outputs": [
        {
          "output_type": "stream",
          "name": "stdout",
          "text": [
            "models/gemini-1.0-pro\n",
            "models/gemini-1.0-pro-001\n",
            "models/gemini-1.0-pro-latest\n",
            "models/gemini-1.0-pro-vision-latest\n",
            "models/gemini-1.5-pro-latest\n",
            "models/gemini-pro\n",
            "models/gemini-pro-vision\n"
          ]
        }
      ]
    },
    {
      "cell_type": "markdown",
      "source": [
        "selecionando"
      ],
      "metadata": {
        "id": "kIpd18jb1nrw"
      }
    },
    {
      "cell_type": "code",
      "source": [
        "model = genai.GenerativeModel('gemini-pro')"
      ],
      "metadata": {
        "id": "4b7tb-hT1oWo"
      },
      "execution_count": 10,
      "outputs": []
    },
    {
      "cell_type": "markdown",
      "source": [
        "configurar parametros"
      ],
      "metadata": {
        "id": "uzAFkeSR2XjC"
      }
    },
    {
      "cell_type": "code",
      "source": [
        "generation_config = {\n",
        "    \"candidate_count\": 1,\n",
        "    \"temperature\": 0.5,\n",
        "}"
      ],
      "metadata": {
        "id": "sbezCZOO2ZSX"
      },
      "execution_count": 11,
      "outputs": []
    },
    {
      "cell_type": "markdown",
      "source": [
        "configurações de segurança"
      ],
      "metadata": {
        "id": "eubXUYWe2tAw"
      }
    },
    {
      "cell_type": "code",
      "source": [
        "safety_settings = {\n",
        "  \"HARASSMENT\" : \"BLOCK_NONE\",\n",
        "  \"HATE\" : \"BLOCK_NONE\",\n",
        "  \"SEXUAL\" : \"BLOCK_NONE\",\n",
        "  \"DANGEROUS\" : \"BLOCK_NONE\",\n",
        "}"
      ],
      "metadata": {
        "id": "UAzM9qiJ2vR0"
      },
      "execution_count": 13,
      "outputs": []
    },
    {
      "cell_type": "markdown",
      "source": [
        "INICIALIZAR MODELO"
      ],
      "metadata": {
        "id": "-qbXk_TK3gdn"
      }
    },
    {
      "cell_type": "code",
      "source": [
        "model = genai.GenerativeModel(model_name=\"gemini-1.0-pro\",\n",
        "                              generation_config=generation_config,\n",
        "                              safety_settings=safety_settings)"
      ],
      "metadata": {
        "id": "ZJE9GezN3hwT"
      },
      "execution_count": 14,
      "outputs": []
    },
    {
      "cell_type": "markdown",
      "source": [
        "RESPONSE"
      ],
      "metadata": {
        "id": "lR6qi21D4Qer"
      }
    },
    {
      "cell_type": "code",
      "source": [
        "response = model.generate_content(\"Bem vindo ao meu primeiro chat em python (texto em Brazilian Portuguese).\")\n",
        "print(response.text)"
      ],
      "metadata": {
        "colab": {
          "base_uri": "https://localhost:8080/",
          "height": 34
        },
        "id": "oI2DIYo-4enD",
        "outputId": "4c8781a3-ea3d-49c8-e449-06a1f1407041"
      },
      "execution_count": 17,
      "outputs": [
        {
          "output_type": "stream",
          "name": "stdout",
          "text": [
            "Seja bem-vindo ao meu primeiro chat em Python! Estou animado para conversar com você.\n"
          ]
        }
      ]
    },
    {
      "cell_type": "markdown",
      "source": [
        "START CHAT"
      ],
      "metadata": {
        "id": "OjXt_G8G4he4"
      }
    },
    {
      "cell_type": "code",
      "source": [
        "chat = model.start_chat(history=[])"
      ],
      "metadata": {
        "id": "TFIyPj8V4ikG"
      },
      "execution_count": 21,
      "outputs": []
    },
    {
      "cell_type": "code",
      "source": [
        "prompt = input(\"Esperando prompt: \")\n",
        "\n",
        "while prompt != \"fim\":\n",
        "  response = chat.send_message(prompt)\n",
        "  print(\"Resposta: \",response.text, \"\\n\")\n",
        "  prompt = input(\"Esperando prompt: \")"
      ],
      "metadata": {
        "colab": {
          "base_uri": "https://localhost:8080/",
          "height": 644
        },
        "id": "6wN3f-nw49ZC",
        "outputId": "3df3c856-3cca-456b-9a54-1b7e99936967"
      },
      "execution_count": 22,
      "outputs": [
        {
          "name": "stdout",
          "output_type": "stream",
          "text": [
            "Esperando prompt: meu código funcionou ?\n",
            "Resposta:  Para avaliar se seu código funcionou, você precisa fornecer o código e os resultados esperados. Sem essas informações, não é possível determinar se o código funcionou ou não. \n",
            "\n",
            "Esperando prompt: sim\n",
            "Resposta:  **Como avaliar se o código funcionou:**\n",
            "\n",
            "1. **Verifique a saída:** Execute o código e compare a saída com os resultados esperados. A saída deve corresponder aos resultados esperados para que o código seja considerado funcional.\n",
            "2. **Teste de casos de borda:** Teste o código com diferentes entradas, incluindo casos de borda (por exemplo, valores válidos e inválidos) para garantir que ele se comporte corretamente em todos os cenários.\n",
            "3. **Verifique a depuração:** Use ferramentas de depuração para verificar o fluxo de execução do código e identificar quaisquer erros ou problemas.\n",
            "4. **Revise o código:** Revise cuidadosamente o código para verificar se há erros de sintaxe ou lógica.\n",
            "5. **Obtenha feedback:** Peça a outras pessoas para revisar seu código e fornecer feedback sobre sua funcionalidade.\n",
            "\n",
            "**Exemplo:**\n",
            "\n",
            "Suponha que você tenha o seguinte código para calcular a área de um círculo:\n",
            "\n",
            "```python\n",
            "def area_circulo(raio):\n",
            "    return 3.14 * raio ** 2\n",
            "\n",
            "# Teste o código com um raio de 5\n",
            "area = area_circulo(5)\n",
            "print(area)  # Resultado esperado: 78,5\n",
            "```\n",
            "\n",
            "Para avaliar se o código funcionou:\n",
            "\n",
            "* Execute o código e verifique se a saída é 78,5.\n",
            "* Teste com outros valores de raio para garantir que ele calcula a área corretamente.\n",
            "* Revise o código para verificar se há erros.\n",
            "* Peça feedback a outras pessoas para confirmar sua funcionalidade.\n",
            "\n",
            "Se o código passar por todos esses testes, ele pode ser considerado funcional. \n",
            "\n",
            "Esperando prompt: fim\n"
          ]
        }
      ]
    },
    {
      "cell_type": "markdown",
      "source": [
        "MELHORANDO VISUALIZAÇÃO"
      ],
      "metadata": {
        "id": "ftXV2Kmu638F"
      }
    },
    {
      "cell_type": "code",
      "source": [
        "#Melhorando a visualização\n",
        "#Código disponível em https://ai.google.dev/tutorials/python_quickstart#import_packages\n",
        "import textwrap\n",
        "from IPython.display import display\n",
        "from IPython.display import Markdown\n",
        "\n",
        "def to_markdown(text):\n",
        "  text = text.replace('•', '  *')\n",
        "  return Markdown(textwrap.indent(text, '> ', predicate=lambda _: True))\n",
        "\n",
        "#Imprimindo o histórico\n",
        "for message in chat.history:\n",
        "  display(to_markdown(f'**{message.role}**: {message.parts[0].text}'))\n",
        "  print('-------------------------------------------')"
      ],
      "metadata": {
        "colab": {
          "base_uri": "https://localhost:8080/",
          "height": 708
        },
        "id": "TzY_tkeb65vZ",
        "outputId": "02ed7403-fa88-484f-d691-fe5ee2ffcbe3"
      },
      "execution_count": 23,
      "outputs": [
        {
          "output_type": "display_data",
          "data": {
            "text/plain": [
              "<IPython.core.display.Markdown object>"
            ],
            "text/markdown": "> **user**: meu código funcionou ?"
          },
          "metadata": {}
        },
        {
          "output_type": "stream",
          "name": "stdout",
          "text": [
            "-------------------------------------------\n"
          ]
        },
        {
          "output_type": "display_data",
          "data": {
            "text/plain": [
              "<IPython.core.display.Markdown object>"
            ],
            "text/markdown": "> **model**: Para avaliar se seu código funcionou, você precisa fornecer o código e os resultados esperados. Sem essas informações, não é possível determinar se o código funcionou ou não."
          },
          "metadata": {}
        },
        {
          "output_type": "stream",
          "name": "stdout",
          "text": [
            "-------------------------------------------\n"
          ]
        },
        {
          "output_type": "display_data",
          "data": {
            "text/plain": [
              "<IPython.core.display.Markdown object>"
            ],
            "text/markdown": "> **user**: sim"
          },
          "metadata": {}
        },
        {
          "output_type": "stream",
          "name": "stdout",
          "text": [
            "-------------------------------------------\n"
          ]
        },
        {
          "output_type": "display_data",
          "data": {
            "text/plain": [
              "<IPython.core.display.Markdown object>"
            ],
            "text/markdown": "> **model**: **Como avaliar se o código funcionou:**\n> \n> 1. **Verifique a saída:** Execute o código e compare a saída com os resultados esperados. A saída deve corresponder aos resultados esperados para que o código seja considerado funcional.\n> 2. **Teste de casos de borda:** Teste o código com diferentes entradas, incluindo casos de borda (por exemplo, valores válidos e inválidos) para garantir que ele se comporte corretamente em todos os cenários.\n> 3. **Verifique a depuração:** Use ferramentas de depuração para verificar o fluxo de execução do código e identificar quaisquer erros ou problemas.\n> 4. **Revise o código:** Revise cuidadosamente o código para verificar se há erros de sintaxe ou lógica.\n> 5. **Obtenha feedback:** Peça a outras pessoas para revisar seu código e fornecer feedback sobre sua funcionalidade.\n> \n> **Exemplo:**\n> \n> Suponha que você tenha o seguinte código para calcular a área de um círculo:\n> \n> ```python\n> def area_circulo(raio):\n>     return 3.14 * raio ** 2\n> \n> # Teste o código com um raio de 5\n> area = area_circulo(5)\n> print(area)  # Resultado esperado: 78,5\n> ```\n> \n> Para avaliar se o código funcionou:\n> \n> * Execute o código e verifique se a saída é 78,5.\n> * Teste com outros valores de raio para garantir que ele calcula a área corretamente.\n> * Revise o código para verificar se há erros.\n> * Peça feedback a outras pessoas para confirmar sua funcionalidade.\n> \n> Se o código passar por todos esses testes, ele pode ser considerado funcional."
          },
          "metadata": {}
        },
        {
          "output_type": "stream",
          "name": "stdout",
          "text": [
            "-------------------------------------------\n"
          ]
        }
      ]
    }
  ]
}